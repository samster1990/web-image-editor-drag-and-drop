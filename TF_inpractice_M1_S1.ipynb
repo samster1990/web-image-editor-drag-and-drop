{
  "nbformat": 4,
  "nbformat_minor": 0,
  "metadata": {
    "colab": {
      "name": "TF_inpractice_M1-S1.ipynb",
      "provenance": [],
      "authorship_tag": "ABX9TyN9rTQzvwHD0m74KInw0/2j",
      "include_colab_link": true
    },
    "kernelspec": {
      "name": "python3",
      "display_name": "Python 3"
    }
  },
  "cells": [
    {
      "cell_type": "markdown",
      "metadata": {
        "id": "view-in-github",
        "colab_type": "text"
      },
      "source": [
        "<a href=\"https://colab.research.google.com/github/samster1990/web-image-editor-drag-and-drop/blob/master/TF_inpractice_M1_S1.ipynb\" target=\"_parent\"><img src=\"https://colab.research.google.com/assets/colab-badge.svg\" alt=\"Open In Colab\"/></a>"
      ]
    },
    {
      "cell_type": "markdown",
      "metadata": {
        "id": "q2wyoXmI9FrL",
        "colab_type": "text"
      },
      "source": [
        "# Import tensorflow and other librabries\n"
      ]
    },
    {
      "cell_type": "code",
      "metadata": {
        "id": "nwZnTFo0m2i-",
        "colab_type": "code",
        "colab": {}
      },
      "source": [
        "import tensorflow as tf\n",
        "import numpy as np\n",
        "from tensorflow import keras"
      ],
      "execution_count": 1,
      "outputs": []
    },
    {
      "cell_type": "markdown",
      "metadata": {
        "id": "Z0e-LcCc9UWu",
        "colab_type": "text"
      },
      "source": [
        "Define and compile neural network"
      ]
    },
    {
      "cell_type": "code",
      "metadata": {
        "id": "WSZOgZYd89V2",
        "colab_type": "code",
        "colab": {}
      },
      "source": [
        "model = tf.keras.Sequential([keras.layers.Dense(units=1, input_shape=[1])])"
      ],
      "execution_count": 4,
      "outputs": []
    },
    {
      "cell_type": "code",
      "metadata": {
        "id": "iMncsSxj9P2L",
        "colab_type": "code",
        "colab": {}
      },
      "source": [
        ""
      ],
      "execution_count": null,
      "outputs": []
    }
  ]
}